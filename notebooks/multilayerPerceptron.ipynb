{
 "cells": [
  {
   "cell_type": "code",
   "execution_count": 24,
   "metadata": {
    "collapsed": true,
    "pycharm": {
     "name": "#%%\n"
    }
   },
   "outputs": [],
   "source": [
    "import pandas\n",
    "import time\n",
    "import numpy as np\n",
    "import cProfile\n",
    "import pstats\n",
    "\n",
    "from pathlib import Path\n",
    "\n",
    "from sklearn.neural_network import MLPClassifier\n",
    "from sklearn.model_selection import GridSearchCV\n",
    "from sklearn.model_selection import KFold"
   ]
  },
  {
   "cell_type": "markdown",
   "source": [
    "Load data:"
   ],
   "metadata": {
    "collapsed": false
   }
  },
  {
   "cell_type": "code",
   "execution_count": 2,
   "outputs": [
    {
     "name": "stdout",
     "output_type": "stream",
     "text": [
      "Data loaded.\n"
     ]
    }
   ],
   "source": [
    "data_table = pandas.read_csv(Path(\"../data/all_match_data.csv\"))\n",
    "label_table = pandas.read_csv(Path(\"../data/all_match_result_data.csv\"))\n",
    "\n",
    "data = data_table.to_numpy()[:, 1:]\n",
    "labels = label_table.to_numpy()[:, 1:].flatten().astype(bool)\n",
    "print(\"Data loaded.\")"
   ],
   "metadata": {
    "collapsed": false,
    "pycharm": {
     "name": "#%%\n"
    }
   }
  },
  {
   "cell_type": "markdown",
   "source": [
    "Use GridSearch with Cross Validation to search for the best hyperparameters."
   ],
   "metadata": {
    "collapsed": false,
    "pycharm": {
     "name": "#%% md\n"
    }
   }
  },
  {
   "cell_type": "code",
   "execution_count": 13,
   "outputs": [
    {
     "name": "stdout",
     "output_type": "stream",
     "text": [
      "Grid search finished.\n"
     ]
    }
   ],
   "source": [
    "parameter_space = {\n",
    "    'hidden_layer_sizes': [(16,16,16), (16, 16, 16, 16), (32,16,16), (32,32), (16,16,8,8)],\n",
    "    'activation': ['tanh', 'relu'],\n",
    "    'solver': ['sgd', 'adam'],\n",
    "    'alpha': [0.0005, 0.00075, 0.00025, 0.0006, 0.0004],\n",
    "    'learning_rate': ['constant','adaptive'],\n",
    "}\n",
    "mlp = MLPClassifier(max_iter=100)\n",
    "clf = GridSearchCV(mlp, parameter_space, n_jobs=-1, cv=3)\n",
    "clf.fit(data, labels)\n",
    "best_params = clf.best_params_\n",
    "print(\"Grid search finished.\")"
   ],
   "metadata": {
    "collapsed": false,
    "pycharm": {
     "name": "#%%\n"
    }
   }
  },
  {
   "cell_type": "markdown",
   "source": [
    "Use KFold Cross validation to test a model trained with the previously given hyperparameters.\n",
    "Test speed in both training and evaluation and test accuracy."
   ],
   "metadata": {
    "collapsed": false
   }
  },
  {
   "cell_type": "code",
   "execution_count": 11,
   "outputs": [
    {
     "name": "stdout",
     "output_type": "stream",
     "text": [
      "KFold finished.\n",
      "Avg score: 0.937740545059517 ; Avg Train time: 32.62016935348511 ; Avg exec time: 0.004850435256958008\n"
     ]
    }
   ],
   "source": [
    "kf = KFold(n_splits=10)\n",
    "\n",
    "scores = []\n",
    "training_times = []\n",
    "execution_times = []\n",
    "\n",
    "for train_index, test_index in kf.split(data):\n",
    "    train_data, test_data = data[train_index], data[test_index]\n",
    "    train_labels, test_labels = labels[train_index], labels[test_index]\n",
    "\n",
    "    classifier = MLPClassifier(**best_params)\n",
    "    start_time = time.time()\n",
    "    classifier.fit(train_data, train_labels)\n",
    "    training_times.append(time.time() - start_time)\n",
    "\n",
    "    start_time = time.time()\n",
    "    scores.append(clf.score(test_data, test_labels))\n",
    "    execution_times.append(time.time() - start_time)\n",
    "\n",
    "\n",
    "\n",
    "avg_score = sum(scores) / len(scores)\n",
    "avg_train_time = sum(training_times) / len(training_times)\n",
    "avg_exec_time = sum(execution_times) / len(execution_times)\n",
    "print(\"KFold finished.\")\n",
    "print(\"Avg score: {} ; Avg Train time: {} ; Avg exec time: {}\".format(avg_score, avg_train_time, avg_exec_time))\n"
   ],
   "metadata": {
    "collapsed": false,
    "pycharm": {
     "name": "#%%\n"
    }
   }
  },
  {
   "cell_type": "markdown",
   "source": [
    "Profile execution stats across all data using model trained via GridSearchCV."
   ],
   "metadata": {
    "collapsed": false,
    "pycharm": {
     "name": "#%% md\n"
    }
   }
  },
  {
   "cell_type": "code",
   "execution_count": 28,
   "outputs": [
    {
     "name": "stdout",
     "output_type": "stream",
     "text": [
      "Wed Nov 18 08:25:12 2020    ../data/stats/mlp_exec_stats\n",
      "\n",
      "         404 function calls (396 primitive calls) in 0.052 seconds\n",
      "\n",
      "   Ordered by: standard name\n",
      "\n",
      "   ncalls  tottime  percall  cumtime  percall filename:lineno(function)\n",
      "        4    0.000    0.000    0.011    0.003 <__array_function__ internals>:2(clip)\n",
      "        8    0.000    0.000    0.000    0.000 <__array_function__ internals>:2(ndim)\n",
      "        1    0.000    0.000    0.002    0.002 <__array_function__ internals>:2(sum)\n",
      "        1    0.000    0.000    0.000    0.000 <frozen importlib._bootstrap>:389(parent)\n",
      "        1    0.000    0.000    0.052    0.052 <string>:1(<module>)\n",
      "        6    0.000    0.000    0.000    0.000 _asarray.py:14(asarray)\n",
      "        1    0.000    0.000    0.000    0.000 _asarray.py:86(asanyarray)\n",
      "        1    0.002    0.002    0.002    0.002 _base.py:30(logistic)\n",
      "        4    0.000    0.000    0.011    0.003 _base.py:62(relu)\n",
      "        1    0.000    0.000    0.000    0.000 _config.py:14(get_config)\n",
      "        1    0.000    0.000    0.000    0.000 _label.py:493(inverse_transform)\n",
      "        1    0.000    0.000    0.000    0.000 _label.py:752(_inverse_binarize_thresholding)\n",
      "        4    0.000    0.000    0.011    0.003 _methods.py:106(_clip)\n",
      "        8    0.000    0.000    0.000    0.000 _methods.py:72(_clip_dep_is_scalar_nan)\n",
      "        8    0.000    0.000    0.000    0.000 _methods.py:82(_clip_dep_is_byte_swapped)\n",
      "        4    0.010    0.003    0.010    0.003 _methods.py:87(_clip_dep_invoke_with_casting)\n",
      "        1    0.000    0.000    0.051    0.051 _multilayer_perceptron.py:668(_predict)\n",
      "        1    0.012    0.012    0.049    0.049 _multilayer_perceptron.py:92(_forward_pass)\n",
      "        1    0.000    0.000    0.052    0.052 _multilayer_perceptron.py:990(predict)\n",
      "        1    0.000    0.000    0.000    0.000 _search.py:460(_check_is_fitted)\n",
      "        1    0.000    0.000    0.052    0.052 _search.py:472(predict)\n",
      "        1    0.000    0.000    0.000    0.000 abc.py:100(__subclasscheck__)\n",
      "        1    0.000    0.000    0.000    0.000 abc.py:96(__instancecheck__)\n",
      "        9    0.000    0.000    0.000    0.000 base.py:1188(isspmatrix)\n",
      "        5    0.023    0.005    0.023    0.005 extmath.py:119(safe_sparse_dot)\n",
      "        1    0.000    0.000    0.002    0.002 extmath.py:686(_safe_accumulator_op)\n",
      "        4    0.000    0.000    0.000    0.000 fromnumeric.py:2029(_clip_dispatcher)\n",
      "        4    0.000    0.000    0.011    0.003 fromnumeric.py:2033(clip)\n",
      "        1    0.000    0.000    0.000    0.000 fromnumeric.py:2100(_sum_dispatcher)\n",
      "        1    0.000    0.000    0.002    0.002 fromnumeric.py:2105(sum)\n",
      "        8    0.000    0.000    0.000    0.000 fromnumeric.py:3071(_ndim_dispatcher)\n",
      "        8    0.000    0.000    0.000    0.000 fromnumeric.py:3075(ndim)\n",
      "        4    0.000    0.000    0.011    0.003 fromnumeric.py:52(_wrapfunc)\n",
      "        1    0.000    0.000    0.002    0.002 fromnumeric.py:70(_wrapreduction)\n",
      "        1    0.000    0.000    0.000    0.000 fromnumeric.py:71(<dictcomp>)\n",
      "        1    0.000    0.000    0.000    0.000 functools.py:34(update_wrapper)\n",
      "        4    0.000    0.000    0.000    0.000 getlimits.py:366(__new__)\n",
      "        9    0.000    0.000    0.000    0.000 inspect.py:2845(parameters)\n",
      "        3    0.000    0.000    0.000    0.000 inspect.py:72(isclass)\n",
      "        1    0.000    0.000    0.000    0.000 metaestimators.py:102(__get__)\n",
      "        1    0.000    0.000    0.052    0.052 metaestimators.py:119(<lambda>)\n",
      "        4    0.000    0.000    0.000    0.000 numerictypes.py:286(issubclass_)\n",
      "        2    0.000    0.000    0.000    0.000 numerictypes.py:360(issubdtype)\n",
      "        3    0.000    0.000    0.000    0.000 validation.py:1015(<listcomp>)\n",
      "        1    0.000    0.000    0.000    0.000 validation.py:180(_num_samples)\n",
      "        1    0.000    0.000    0.000    0.000 validation.py:390(_ensure_no_complex_data)\n",
      "        1    0.000    0.000    0.003    0.003 validation.py:397(check_array)\n",
      "        9    0.000    0.000    0.027    0.003 validation.py:59(inner_f)\n",
      "        9    0.000    0.000    0.000    0.000 validation.py:71(<dictcomp>)\n",
      "        1    0.000    0.000    0.002    0.002 validation.py:76(_assert_all_finite)\n",
      "        3    0.000    0.000    0.000    0.000 validation.py:955(check_is_fitted)\n",
      "        1    0.000    0.000    0.000    0.000 warnings.py:165(simplefilter)\n",
      "        1    0.000    0.000    0.000    0.000 warnings.py:181(_add_filter)\n",
      "        1    0.000    0.000    0.000    0.000 warnings.py:437(__init__)\n",
      "        1    0.000    0.000    0.000    0.000 warnings.py:458(__enter__)\n",
      "        1    0.000    0.000    0.000    0.000 warnings.py:477(__exit__)\n",
      "        1    0.000    0.000    0.000    0.000 {built-in method _abc._abc_instancecheck}\n",
      "        1    0.000    0.000    0.000    0.000 {built-in method _abc._abc_subclasscheck}\n",
      "        3    0.000    0.000    0.000    0.000 {built-in method _warnings._filters_mutated}\n",
      "        1    0.000    0.000    0.052    0.052 {built-in method builtins.exec}\n",
      "       13    0.000    0.000    0.000    0.000 {built-in method builtins.getattr}\n",
      "       12    0.000    0.000    0.000    0.000 {built-in method builtins.hasattr}\n",
      "       25    0.000    0.000    0.000    0.000 {built-in method builtins.isinstance}\n",
      "        6    0.000    0.000    0.000    0.000 {built-in method builtins.issubclass}\n",
      "       20    0.000    0.000    0.000    0.000 {built-in method builtins.len}\n",
      "        5    0.000    0.000    0.000    0.000 {built-in method builtins.setattr}\n",
      "        3    0.000    0.000    0.000    0.000 {built-in method builtins.vars}\n",
      "        8    0.000    0.000    0.000    0.000 {built-in method numpy.array}\n",
      "     13/5    0.000    0.000    0.013    0.003 {built-in method numpy.core._multiarray_umath.implement_array_function}\n",
      "        5    0.000    0.000    0.000    0.000 {built-in method numpy.empty}\n",
      "        5    0.000    0.000    0.000    0.000 {method 'append' of 'list' objects}\n",
      "        4    0.000    0.000    0.011    0.003 {method 'clip' of 'numpy.ndarray' objects}\n",
      "        1    0.000    0.000    0.000    0.000 {method 'copy' of 'dict' objects}\n",
      "        1    0.000    0.000    0.000    0.000 {method 'disable' of '_lsprof.Profiler' objects}\n",
      "       66    0.000    0.000    0.000    0.000 {method 'endswith' of 'str' objects}\n",
      "        4    0.000    0.000    0.000    0.000 {method 'get' of 'dict' objects}\n",
      "        1    0.000    0.000    0.000    0.000 {method 'insert' of 'list' objects}\n",
      "        1    0.000    0.000    0.000    0.000 {method 'items' of 'dict' objects}\n",
      "        2    0.000    0.000    0.000    0.000 {method 'ravel' of 'numpy.ndarray' objects}\n",
      "        1    0.002    0.002    0.002    0.002 {method 'reduce' of 'numpy.ufunc' objects}\n",
      "        1    0.000    0.000    0.000    0.000 {method 'remove' of 'list' objects}\n",
      "        1    0.000    0.000    0.000    0.000 {method 'rpartition' of 'str' objects}\n",
      "       24    0.000    0.000    0.000    0.000 {method 'startswith' of 'str' objects}\n",
      "       10    0.000    0.000    0.000    0.000 {method 'update' of 'dict' objects}\n",
      "\n",
      "\n"
     ]
    },
    {
     "data": {
      "text/plain": "<pstats.Stats at 0x7ff6cb38d340>"
     },
     "execution_count": 28,
     "metadata": {},
     "output_type": "execute_result"
    }
   ],
   "source": [
    "stats_path = Path('../data/stats/mlp_exec_stats')\n",
    "cProfile.run('clf.predict(data)', stats_path)\n",
    "\n",
    "p = pstats.Stats(stats_path.as_posix())\n",
    "\n",
    "p.strip_dirs().sort_stats(-1).print_stats()"
   ],
   "metadata": {
    "collapsed": false,
    "pycharm": {
     "name": "#%%\n"
    }
   }
  }
 ],
 "metadata": {
  "kernelspec": {
   "display_name": "Python 3",
   "language": "python",
   "name": "python3"
  },
  "language_info": {
   "codemirror_mode": {
    "name": "ipython",
    "version": 2
   },
   "file_extension": ".py",
   "mimetype": "text/x-python",
   "name": "python",
   "nbconvert_exporter": "python",
   "pygments_lexer": "ipython2",
   "version": "2.7.6"
  }
 },
 "nbformat": 4,
 "nbformat_minor": 0
}