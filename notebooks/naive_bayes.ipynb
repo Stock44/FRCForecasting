{
 "cells": [
  {
   "cell_type": "code",
   "execution_count": 12,
   "metadata": {
    "collapsed": true
   },
   "outputs": [],
   "source": [
    "import pandas\n",
    "import time\n",
    "import numpy as np\n",
    "import cProfile\n",
    "import pstats\n",
    "\n",
    "from pathlib import Path\n",
    "\n",
    "from sklearn.naive_bayes import GaussianNB\n",
    "from sklearn.model_selection import KFold"
   ]
  },
  {
   "cell_type": "markdown",
   "source": [
    "Load data:"
   ],
   "metadata": {
    "collapsed": false
   }
  },
  {
   "cell_type": "code",
   "execution_count": 13,
   "outputs": [
    {
     "name": "stdout",
     "output_type": "stream",
     "text": [
      "Data loaded.\n"
     ]
    }
   ],
   "source": [
    "data_table = pandas.read_csv(Path(\"../data/all_match_data.csv\"))\n",
    "label_table = pandas.read_csv(Path(\"../data/all_match_result_data.csv\"))\n",
    "\n",
    "data = data_table.to_numpy()[:, 1:]\n",
    "labels = label_table.to_numpy()[:, 1:].flatten().astype(bool)\n",
    "print(\"Data loaded.\")"
   ],
   "metadata": {
    "collapsed": false,
    "pycharm": {
     "name": "#%%\n"
    }
   }
  },
  {
   "cell_type": "markdown",
   "source": [
    "Use KFold Cross validation to test a model trained with the previously given hyperparameters.\n",
    "Test speed in both training and evaluation and test accuracy."
   ],
   "metadata": {
    "collapsed": false
   }
  },
  {
   "cell_type": "code",
   "execution_count": 14,
   "outputs": [
    {
     "name": "stdout",
     "output_type": "stream",
     "text": [
      "KFold finished.\n",
      "Avg score: 0.9322213415333781 ; Avg Train time: 0.03225941658020019 ; Avg exec time: 0.003827667236328125\n"
     ]
    }
   ],
   "source": [
    "kf = KFold(n_splits=10)\n",
    "\n",
    "scores = []\n",
    "training_times = []\n",
    "execution_times = []\n",
    "\n",
    "for train_index, test_index in kf.split(data):\n",
    "    train_data, test_data = data[train_index], data[test_index]\n",
    "    train_labels, test_labels = labels[train_index], labels[test_index]\n",
    "\n",
    "    gnb = GaussianNB()\n",
    "\n",
    "    start_time = time.time()\n",
    "    gnb.fit(train_data, train_labels)\n",
    "    training_times.append(time.time() - start_time)\n",
    "\n",
    "    start_time = time.time()\n",
    "    scores.append(gnb.score(test_data, test_labels))\n",
    "    execution_times.append(time.time() - start_time)\n",
    "\n",
    "\n",
    "\n",
    "avg_score = sum(scores) / len(scores)\n",
    "avg_train_time = sum(training_times) / len(training_times)\n",
    "avg_exec_time = sum(execution_times) / len(execution_times)\n",
    "print(\"KFold finished.\")\n",
    "print(\"Avg score: {} ; Avg Train time: {} ; Avg exec time: {}\".format(avg_score, avg_train_time, avg_exec_time))"
   ],
   "metadata": {
    "collapsed": false,
    "pycharm": {
     "name": "#%%\n"
    }
   }
  },
  {
   "cell_type": "markdown",
   "source": [
    "Train model across all data"
   ],
   "metadata": {
    "collapsed": false,
    "pycharm": {
     "name": "#%% md\n"
    }
   }
  },
  {
   "cell_type": "code",
   "execution_count": 15,
   "outputs": [
    {
     "name": "stdout",
     "output_type": "stream",
     "text": [
      "Finished training.\n"
     ]
    }
   ],
   "source": [
    "gnb = GaussianNB()\n",
    "gnb.fit(data, labels)\n",
    "print(\"Finished training.\")"
   ],
   "metadata": {
    "collapsed": false,
    "pycharm": {
     "name": "#%%\n"
    }
   }
  },
  {
   "cell_type": "markdown",
   "source": [
    "Profile execution stats across all data using model trained via GridSearchCV."
   ],
   "metadata": {
    "collapsed": false
   }
  },
  {
   "cell_type": "code",
   "execution_count": 16,
   "outputs": [
    {
     "name": "stdout",
     "output_type": "stream",
     "text": [
      "Wed Nov 18 08:42:23 2020    ../data/stats/nb_exec_stats\n",
      "\n",
      "         154 function calls in 0.025 seconds\n",
      "\n",
      "   Ordered by: standard name\n",
      "\n",
      "   ncalls  tottime  percall  cumtime  percall filename:lineno(function)\n",
      "        1    0.000    0.000    0.001    0.001 <__array_function__ internals>:2(argmax)\n",
      "        1    0.000    0.000    0.000    0.000 <__array_function__ internals>:2(size)\n",
      "        5    0.000    0.000    0.005    0.001 <__array_function__ internals>:2(sum)\n",
      "        1    0.000    0.000    0.000    0.000 <frozen importlib._bootstrap>:389(parent)\n",
      "        1    0.000    0.000    0.025    0.025 <string>:1(<module>)\n",
      "        1    0.000    0.000    0.000    0.000 _asarray.py:14(asarray)\n",
      "        1    0.000    0.000    0.000    0.000 _asarray.py:86(asanyarray)\n",
      "        1    0.000    0.000    0.000    0.000 _config.py:14(get_config)\n",
      "        1    0.000    0.000    0.000    0.000 abc.py:100(__subclasscheck__)\n",
      "        1    0.000    0.000    0.000    0.000 abc.py:96(__instancecheck__)\n",
      "        1    0.000    0.000    0.000    0.000 base.py:1188(isspmatrix)\n",
      "        1    0.000    0.000    0.002    0.002 extmath.py:686(_safe_accumulator_op)\n",
      "        1    0.000    0.000    0.000    0.000 fromnumeric.py:1110(_argmax_dispatcher)\n",
      "        1    0.000    0.000    0.001    0.001 fromnumeric.py:1114(argmax)\n",
      "        5    0.000    0.000    0.000    0.000 fromnumeric.py:2100(_sum_dispatcher)\n",
      "        5    0.000    0.000    0.005    0.001 fromnumeric.py:2105(sum)\n",
      "        1    0.000    0.000    0.000    0.000 fromnumeric.py:3113(_size_dispatcher)\n",
      "        1    0.000    0.000    0.000    0.000 fromnumeric.py:3117(size)\n",
      "        1    0.000    0.000    0.001    0.001 fromnumeric.py:52(_wrapfunc)\n",
      "        5    0.000    0.000    0.005    0.001 fromnumeric.py:70(_wrapreduction)\n",
      "        5    0.000    0.000    0.000    0.000 fromnumeric.py:71(<dictcomp>)\n",
      "        2    0.000    0.000    0.000    0.000 inspect.py:2845(parameters)\n",
      "        1    0.000    0.000    0.000    0.000 inspect.py:72(isclass)\n",
      "        1    0.000    0.000    0.002    0.002 naive_bayes.py:215(_check_X)\n",
      "        1    0.018    0.018    0.021    0.021 naive_bayes.py:451(_joint_log_likelihood)\n",
      "        1    0.000    0.000    0.025    0.025 naive_bayes.py:63(predict)\n",
      "        4    0.000    0.000    0.000    0.000 numerictypes.py:286(issubclass_)\n",
      "        2    0.000    0.000    0.000    0.000 numerictypes.py:360(issubdtype)\n",
      "        1    0.000    0.000    0.000    0.000 validation.py:1015(<listcomp>)\n",
      "        1    0.000    0.000    0.000    0.000 validation.py:180(_num_samples)\n",
      "        1    0.000    0.000    0.000    0.000 validation.py:390(_ensure_no_complex_data)\n",
      "        1    0.000    0.000    0.002    0.002 validation.py:397(check_array)\n",
      "        2    0.000    0.000    0.002    0.001 validation.py:59(inner_f)\n",
      "        2    0.000    0.000    0.000    0.000 validation.py:71(<dictcomp>)\n",
      "        1    0.000    0.000    0.002    0.002 validation.py:76(_assert_all_finite)\n",
      "        1    0.000    0.000    0.000    0.000 validation.py:955(check_is_fitted)\n",
      "        1    0.000    0.000    0.000    0.000 warnings.py:165(simplefilter)\n",
      "        1    0.000    0.000    0.000    0.000 warnings.py:181(_add_filter)\n",
      "        1    0.000    0.000    0.000    0.000 warnings.py:437(__init__)\n",
      "        1    0.000    0.000    0.000    0.000 warnings.py:458(__enter__)\n",
      "        1    0.000    0.000    0.000    0.000 warnings.py:477(__exit__)\n",
      "        1    0.000    0.000    0.000    0.000 {built-in method _abc._abc_instancecheck}\n",
      "        1    0.000    0.000    0.000    0.000 {built-in method _abc._abc_subclasscheck}\n",
      "        3    0.000    0.000    0.000    0.000 {built-in method _warnings._filters_mutated}\n",
      "        1    0.000    0.000    0.025    0.025 {built-in method builtins.exec}\n",
      "        2    0.000    0.000    0.000    0.000 {built-in method builtins.getattr}\n",
      "        9    0.000    0.000    0.000    0.000 {built-in method builtins.hasattr}\n",
      "       11    0.000    0.000    0.000    0.000 {built-in method builtins.isinstance}\n",
      "        6    0.000    0.000    0.000    0.000 {built-in method builtins.issubclass}\n",
      "        5    0.000    0.000    0.000    0.000 {built-in method builtins.len}\n",
      "        1    0.000    0.000    0.000    0.000 {built-in method builtins.vars}\n",
      "        3    0.000    0.000    0.000    0.000 {built-in method numpy.array}\n",
      "        7    0.000    0.000    0.006    0.001 {built-in method numpy.core._multiarray_umath.implement_array_function}\n",
      "        2    0.000    0.000    0.000    0.000 {method 'append' of 'list' objects}\n",
      "        1    0.001    0.001    0.001    0.001 {method 'argmax' of 'numpy.ndarray' objects}\n",
      "        1    0.000    0.000    0.000    0.000 {method 'copy' of 'dict' objects}\n",
      "        1    0.000    0.000    0.000    0.000 {method 'disable' of '_lsprof.Profiler' objects}\n",
      "        9    0.000    0.000    0.000    0.000 {method 'endswith' of 'str' objects}\n",
      "        1    0.000    0.000    0.000    0.000 {method 'insert' of 'list' objects}\n",
      "        5    0.000    0.000    0.000    0.000 {method 'items' of 'dict' objects}\n",
      "        5    0.004    0.001    0.004    0.001 {method 'reduce' of 'numpy.ufunc' objects}\n",
      "        1    0.000    0.000    0.000    0.000 {method 'remove' of 'list' objects}\n",
      "        1    0.000    0.000    0.000    0.000 {method 'rpartition' of 'str' objects}\n",
      "        7    0.000    0.000    0.000    0.000 {method 'startswith' of 'str' objects}\n",
      "        2    0.000    0.000    0.000    0.000 {method 'update' of 'dict' objects}\n",
      "\n",
      "\n"
     ]
    },
    {
     "data": {
      "text/plain": "<pstats.Stats at 0x7f036c662d30>"
     },
     "execution_count": 16,
     "metadata": {},
     "output_type": "execute_result"
    }
   ],
   "source": [
    "stats_path = Path('../data/stats/nb_exec_stats')\n",
    "cProfile.run('gnb.predict(data)', stats_path)\n",
    "\n",
    "p = pstats.Stats(stats_path.as_posix())\n",
    "\n",
    "p.strip_dirs().sort_stats(-1).print_stats()"
   ],
   "metadata": {
    "collapsed": false,
    "pycharm": {
     "name": "#%%\n"
    }
   }
  }
 ],
 "metadata": {
  "kernelspec": {
   "display_name": "Python 3",
   "language": "python",
   "name": "python3"
  },
  "language_info": {
   "codemirror_mode": {
    "name": "ipython",
    "version": 2
   },
   "file_extension": ".py",
   "mimetype": "text/x-python",
   "name": "python",
   "nbconvert_exporter": "python",
   "pygments_lexer": "ipython2",
   "version": "2.7.6"
  }
 },
 "nbformat": 4,
 "nbformat_minor": 0
}